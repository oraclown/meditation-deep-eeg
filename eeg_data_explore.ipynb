{
 "cells": [
  {
   "cell_type": "code",
   "execution_count": 1,
   "metadata": {},
   "outputs": [],
   "source": [
    "import pandas as pd"
   ]
  },
  {
   "cell_type": "code",
   "execution_count": 2,
   "metadata": {},
   "outputs": [
    {
     "name": "stderr",
     "output_type": "stream",
     "text": [
      "C:\\Users\\Owen\\Anaconda3\\lib\\site-packages\\IPython\\core\\interactiveshell.py:3051: DtypeWarning: Columns (38) have mixed types. Specify dtype option on import or set low_memory=False.\n",
      "  interactivity=interactivity, compiler=compiler, result=result)\n"
     ]
    }
   ],
   "source": [
    "df = pd.read_csv('museMonitor_2020-05-09--15min-meditation.csv')"
   ]
  },
  {
   "cell_type": "code",
   "execution_count": 3,
   "metadata": {},
   "outputs": [
    {
     "data": {
      "text/plain": [
       "(242802, 39)"
      ]
     },
     "execution_count": 3,
     "metadata": {},
     "output_type": "execute_result"
    }
   ],
   "source": [
    "df.shape"
   ]
  },
  {
   "cell_type": "code",
   "execution_count": 6,
   "metadata": {},
   "outputs": [
    {
     "data": {
      "text/html": [
       "<div>\n",
       "<style scoped>\n",
       "    .dataframe tbody tr th:only-of-type {\n",
       "        vertical-align: middle;\n",
       "    }\n",
       "\n",
       "    .dataframe tbody tr th {\n",
       "        vertical-align: top;\n",
       "    }\n",
       "\n",
       "    .dataframe thead th {\n",
       "        text-align: right;\n",
       "    }\n",
       "</style>\n",
       "<table border=\"1\" class=\"dataframe\">\n",
       "  <thead>\n",
       "    <tr style=\"text-align: right;\">\n",
       "      <th></th>\n",
       "      <th>TimeStamp</th>\n",
       "      <th>Delta_TP9</th>\n",
       "      <th>Delta_AF7</th>\n",
       "      <th>Delta_AF8</th>\n",
       "      <th>Delta_TP10</th>\n",
       "      <th>Theta_TP9</th>\n",
       "      <th>Theta_AF7</th>\n",
       "      <th>Theta_AF8</th>\n",
       "      <th>Theta_TP10</th>\n",
       "      <th>Alpha_TP9</th>\n",
       "      <th>...</th>\n",
       "      <th>Gyro_X</th>\n",
       "      <th>Gyro_Y</th>\n",
       "      <th>Gyro_Z</th>\n",
       "      <th>HeadBandOn</th>\n",
       "      <th>HSI_TP9</th>\n",
       "      <th>HSI_AF7</th>\n",
       "      <th>HSI_AF8</th>\n",
       "      <th>HSI_TP10</th>\n",
       "      <th>Battery</th>\n",
       "      <th>Elements</th>\n",
       "    </tr>\n",
       "  </thead>\n",
       "  <tbody>\n",
       "    <tr>\n",
       "      <th>0</th>\n",
       "      <td>2020-05-09 17:36:03.243</td>\n",
       "      <td>1.540952</td>\n",
       "      <td>0.982826</td>\n",
       "      <td>0.774757</td>\n",
       "      <td>1.426567</td>\n",
       "      <td>1.35836</td>\n",
       "      <td>0.550849</td>\n",
       "      <td>0.378033</td>\n",
       "      <td>1.294048</td>\n",
       "      <td>1.134167</td>\n",
       "      <td>...</td>\n",
       "      <td>3.962708</td>\n",
       "      <td>-2.893524</td>\n",
       "      <td>-2.429962</td>\n",
       "      <td>1.0</td>\n",
       "      <td>1.0</td>\n",
       "      <td>1.0</td>\n",
       "      <td>1.0</td>\n",
       "      <td>1.0</td>\n",
       "      <td>70.0</td>\n",
       "      <td>NaN</td>\n",
       "    </tr>\n",
       "    <tr>\n",
       "      <th>1</th>\n",
       "      <td>2020-05-09 17:36:03.244</td>\n",
       "      <td>1.540952</td>\n",
       "      <td>0.982826</td>\n",
       "      <td>0.774757</td>\n",
       "      <td>1.426567</td>\n",
       "      <td>1.35836</td>\n",
       "      <td>0.550849</td>\n",
       "      <td>0.378033</td>\n",
       "      <td>1.294048</td>\n",
       "      <td>1.134167</td>\n",
       "      <td>...</td>\n",
       "      <td>3.962708</td>\n",
       "      <td>-2.893524</td>\n",
       "      <td>-2.429962</td>\n",
       "      <td>1.0</td>\n",
       "      <td>1.0</td>\n",
       "      <td>1.0</td>\n",
       "      <td>1.0</td>\n",
       "      <td>1.0</td>\n",
       "      <td>70.0</td>\n",
       "      <td>NaN</td>\n",
       "    </tr>\n",
       "    <tr>\n",
       "      <th>2</th>\n",
       "      <td>2020-05-09 17:36:03.244</td>\n",
       "      <td>1.540952</td>\n",
       "      <td>0.982826</td>\n",
       "      <td>0.774757</td>\n",
       "      <td>1.426567</td>\n",
       "      <td>1.35836</td>\n",
       "      <td>0.550849</td>\n",
       "      <td>0.378033</td>\n",
       "      <td>1.294048</td>\n",
       "      <td>1.134167</td>\n",
       "      <td>...</td>\n",
       "      <td>3.962708</td>\n",
       "      <td>-2.893524</td>\n",
       "      <td>-2.429962</td>\n",
       "      <td>1.0</td>\n",
       "      <td>1.0</td>\n",
       "      <td>1.0</td>\n",
       "      <td>1.0</td>\n",
       "      <td>1.0</td>\n",
       "      <td>70.0</td>\n",
       "      <td>NaN</td>\n",
       "    </tr>\n",
       "    <tr>\n",
       "      <th>3</th>\n",
       "      <td>2020-05-09 17:36:03.244</td>\n",
       "      <td>1.540952</td>\n",
       "      <td>0.982826</td>\n",
       "      <td>0.774757</td>\n",
       "      <td>1.426567</td>\n",
       "      <td>1.35836</td>\n",
       "      <td>0.550849</td>\n",
       "      <td>0.378033</td>\n",
       "      <td>1.294048</td>\n",
       "      <td>1.134167</td>\n",
       "      <td>...</td>\n",
       "      <td>3.962708</td>\n",
       "      <td>-2.893524</td>\n",
       "      <td>-2.429962</td>\n",
       "      <td>1.0</td>\n",
       "      <td>1.0</td>\n",
       "      <td>1.0</td>\n",
       "      <td>1.0</td>\n",
       "      <td>1.0</td>\n",
       "      <td>70.0</td>\n",
       "      <td>NaN</td>\n",
       "    </tr>\n",
       "    <tr>\n",
       "      <th>4</th>\n",
       "      <td>2020-05-09 17:36:03.245</td>\n",
       "      <td>1.540952</td>\n",
       "      <td>0.982826</td>\n",
       "      <td>0.774757</td>\n",
       "      <td>1.426567</td>\n",
       "      <td>1.35836</td>\n",
       "      <td>0.550849</td>\n",
       "      <td>0.378033</td>\n",
       "      <td>1.294048</td>\n",
       "      <td>1.134167</td>\n",
       "      <td>...</td>\n",
       "      <td>3.962708</td>\n",
       "      <td>-2.893524</td>\n",
       "      <td>-2.429962</td>\n",
       "      <td>1.0</td>\n",
       "      <td>1.0</td>\n",
       "      <td>1.0</td>\n",
       "      <td>1.0</td>\n",
       "      <td>1.0</td>\n",
       "      <td>70.0</td>\n",
       "      <td>NaN</td>\n",
       "    </tr>\n",
       "  </tbody>\n",
       "</table>\n",
       "<p>5 rows × 39 columns</p>\n",
       "</div>"
      ],
      "text/plain": [
       "                 TimeStamp  Delta_TP9  Delta_AF7  Delta_AF8  Delta_TP10  \\\n",
       "0  2020-05-09 17:36:03.243   1.540952   0.982826   0.774757    1.426567   \n",
       "1  2020-05-09 17:36:03.244   1.540952   0.982826   0.774757    1.426567   \n",
       "2  2020-05-09 17:36:03.244   1.540952   0.982826   0.774757    1.426567   \n",
       "3  2020-05-09 17:36:03.244   1.540952   0.982826   0.774757    1.426567   \n",
       "4  2020-05-09 17:36:03.245   1.540952   0.982826   0.774757    1.426567   \n",
       "\n",
       "   Theta_TP9  Theta_AF7  Theta_AF8  Theta_TP10  Alpha_TP9  ...    Gyro_X  \\\n",
       "0    1.35836   0.550849   0.378033    1.294048   1.134167  ...  3.962708   \n",
       "1    1.35836   0.550849   0.378033    1.294048   1.134167  ...  3.962708   \n",
       "2    1.35836   0.550849   0.378033    1.294048   1.134167  ...  3.962708   \n",
       "3    1.35836   0.550849   0.378033    1.294048   1.134167  ...  3.962708   \n",
       "4    1.35836   0.550849   0.378033    1.294048   1.134167  ...  3.962708   \n",
       "\n",
       "     Gyro_Y    Gyro_Z  HeadBandOn  HSI_TP9  HSI_AF7  HSI_AF8  HSI_TP10  \\\n",
       "0 -2.893524 -2.429962         1.0      1.0      1.0      1.0       1.0   \n",
       "1 -2.893524 -2.429962         1.0      1.0      1.0      1.0       1.0   \n",
       "2 -2.893524 -2.429962         1.0      1.0      1.0      1.0       1.0   \n",
       "3 -2.893524 -2.429962         1.0      1.0      1.0      1.0       1.0   \n",
       "4 -2.893524 -2.429962         1.0      1.0      1.0      1.0       1.0   \n",
       "\n",
       "   Battery  Elements  \n",
       "0     70.0       NaN  \n",
       "1     70.0       NaN  \n",
       "2     70.0       NaN  \n",
       "3     70.0       NaN  \n",
       "4     70.0       NaN  \n",
       "\n",
       "[5 rows x 39 columns]"
      ]
     },
     "execution_count": 6,
     "metadata": {},
     "output_type": "execute_result"
    }
   ],
   "source": [
    "df.head()"
   ]
  },
  {
   "cell_type": "code",
   "execution_count": 7,
   "metadata": {},
   "outputs": [
    {
     "data": {
      "text/plain": [
       "Index(['TimeStamp', 'Delta_TP9', 'Delta_AF7', 'Delta_AF8', 'Delta_TP10',\n",
       "       'Theta_TP9', 'Theta_AF7', 'Theta_AF8', 'Theta_TP10', 'Alpha_TP9',\n",
       "       'Alpha_AF7', 'Alpha_AF8', 'Alpha_TP10', 'Beta_TP9', 'Beta_AF7',\n",
       "       'Beta_AF8', 'Beta_TP10', 'Gamma_TP9', 'Gamma_AF7', 'Gamma_AF8',\n",
       "       'Gamma_TP10', 'RAW_TP9', 'RAW_AF7', 'RAW_AF8', 'RAW_TP10', 'AUX_RIGHT',\n",
       "       'Accelerometer_X', 'Accelerometer_Y', 'Accelerometer_Z', 'Gyro_X',\n",
       "       'Gyro_Y', 'Gyro_Z', 'HeadBandOn', 'HSI_TP9', 'HSI_AF7', 'HSI_AF8',\n",
       "       'HSI_TP10', 'Battery', 'Elements'],\n",
       "      dtype='object')"
      ]
     },
     "execution_count": 7,
     "metadata": {},
     "output_type": "execute_result"
    }
   ],
   "source": [
    "df.columns"
   ]
  },
  {
   "cell_type": "code",
   "execution_count": 8,
   "metadata": {},
   "outputs": [],
   "source": [
    "raw_df = df[['RAW_TP9', 'RAW_AF7', 'RAW_AF8', 'RAW_TP10']]"
   ]
  },
  {
   "cell_type": "code",
   "execution_count": 9,
   "metadata": {},
   "outputs": [
    {
     "data": {
      "text/html": [
       "<div>\n",
       "<style scoped>\n",
       "    .dataframe tbody tr th:only-of-type {\n",
       "        vertical-align: middle;\n",
       "    }\n",
       "\n",
       "    .dataframe tbody tr th {\n",
       "        vertical-align: top;\n",
       "    }\n",
       "\n",
       "    .dataframe thead th {\n",
       "        text-align: right;\n",
       "    }\n",
       "</style>\n",
       "<table border=\"1\" class=\"dataframe\">\n",
       "  <thead>\n",
       "    <tr style=\"text-align: right;\">\n",
       "      <th></th>\n",
       "      <th>RAW_TP9</th>\n",
       "      <th>RAW_AF7</th>\n",
       "      <th>RAW_AF8</th>\n",
       "      <th>RAW_TP10</th>\n",
       "    </tr>\n",
       "  </thead>\n",
       "  <tbody>\n",
       "    <tr>\n",
       "      <th>0</th>\n",
       "      <td>773.62640</td>\n",
       "      <td>788.93774</td>\n",
       "      <td>796.19050</td>\n",
       "      <td>772.41760</td>\n",
       "    </tr>\n",
       "    <tr>\n",
       "      <th>1</th>\n",
       "      <td>778.05860</td>\n",
       "      <td>792.56410</td>\n",
       "      <td>799.01100</td>\n",
       "      <td>780.87915</td>\n",
       "    </tr>\n",
       "    <tr>\n",
       "      <th>2</th>\n",
       "      <td>779.67035</td>\n",
       "      <td>796.99634</td>\n",
       "      <td>798.60803</td>\n",
       "      <td>782.89380</td>\n",
       "    </tr>\n",
       "    <tr>\n",
       "      <th>3</th>\n",
       "      <td>788.53480</td>\n",
       "      <td>800.21980</td>\n",
       "      <td>803.04030</td>\n",
       "      <td>786.92310</td>\n",
       "    </tr>\n",
       "    <tr>\n",
       "      <th>4</th>\n",
       "      <td>785.71430</td>\n",
       "      <td>800.62270</td>\n",
       "      <td>803.84610</td>\n",
       "      <td>787.72894</td>\n",
       "    </tr>\n",
       "  </tbody>\n",
       "</table>\n",
       "</div>"
      ],
      "text/plain": [
       "     RAW_TP9    RAW_AF7    RAW_AF8   RAW_TP10\n",
       "0  773.62640  788.93774  796.19050  772.41760\n",
       "1  778.05860  792.56410  799.01100  780.87915\n",
       "2  779.67035  796.99634  798.60803  782.89380\n",
       "3  788.53480  800.21980  803.04030  786.92310\n",
       "4  785.71430  800.62270  803.84610  787.72894"
      ]
     },
     "execution_count": 9,
     "metadata": {},
     "output_type": "execute_result"
    }
   ],
   "source": [
    "raw_df.head()"
   ]
  },
  {
   "cell_type": "code",
   "execution_count": 10,
   "metadata": {},
   "outputs": [
    {
     "data": {
      "text/plain": [
       "<matplotlib.axes._subplots.AxesSubplot at 0x2bd8a2d99e8>"
      ]
     },
     "execution_count": 10,
     "metadata": {},
     "output_type": "execute_result"
    },
    {
     "data": {
      "image/png": "[encoded data removed]",
      "text/plain": [
       "<Figure size 432x288 with 1 Axes>"
      ]
     },
     "metadata": {
      "needs_background": "light"
     },
     "output_type": "display_data"
    }
   ],
   "source": [
    "raw_df.plot()"
   ]
  },
  {
   "cell_type": "code",
   "execution_count": 13,
   "metadata": {},
   "outputs": [],
   "source": [
    "waves_df = df[['Delta_TP9', 'Delta_AF7', 'Delta_AF8', 'Delta_TP10',\n",
    "       'Theta_TP9', 'Theta_AF7', 'Theta_AF8', 'Theta_TP10', 'Alpha_TP9',\n",
    "       'Alpha_AF7', 'Alpha_AF8', 'Alpha_TP10', 'Beta_TP9', 'Beta_AF7',\n",
    "       'Beta_AF8', 'Beta_TP10', 'Gamma_TP9', 'Gamma_AF7', 'Gamma_AF8',\n",
    "       'Gamma_TP10']]"
   ]
  },
  {
   "cell_type": "code",
   "execution_count": 22,
   "metadata": {},
   "outputs": [],
   "source": [
    "waves = pd.DataFrame()\n",
    "\n",
    "waves['d'] = waves_df.loc[: , \"Delta_TP9\":\"Delta_TP10\"].mean(axis=1)\n",
    "waves['t'] = waves_df.loc[: , \"Theta_TP9\":\"Theta_TP10\"].mean(axis=1)\n",
    "waves['a'] = waves_df.loc[: , \"Alpha_TP9\":\"Alpha_TP10\"].mean(axis=1)\n",
    "waves['b'] = waves_df.loc[: , \"Beta_TP9\":\"Beta_TP10\"].mean(axis=1)\n",
    "waves['g'] = waves_df.loc[: , \"Gamma_TP9\":\"Gamma_TP10\"].mean(axis=1)"
   ]
  },
  {
   "cell_type": "code",
   "execution_count": 23,
   "metadata": {},
   "outputs": [
    {
     "data": {
      "text/html": [
       "<div>\n",
       "<style scoped>\n",
       "    .dataframe tbody tr th:only-of-type {\n",
       "        vertical-align: middle;\n",
       "    }\n",
       "\n",
       "    .dataframe tbody tr th {\n",
       "        vertical-align: top;\n",
       "    }\n",
       "\n",
       "    .dataframe thead th {\n",
       "        text-align: right;\n",
       "    }\n",
       "</style>\n",
       "<table border=\"1\" class=\"dataframe\">\n",
       "  <thead>\n",
       "    <tr style=\"text-align: right;\">\n",
       "      <th></th>\n",
       "      <th>d</th>\n",
       "      <th>t</th>\n",
       "      <th>a</th>\n",
       "      <th>b</th>\n",
       "      <th>g</th>\n",
       "    </tr>\n",
       "  </thead>\n",
       "  <tbody>\n",
       "    <tr>\n",
       "      <th>0</th>\n",
       "      <td>1.181275</td>\n",
       "      <td>0.895323</td>\n",
       "      <td>0.69963</td>\n",
       "      <td>0.345198</td>\n",
       "      <td>-0.164539</td>\n",
       "    </tr>\n",
       "    <tr>\n",
       "      <th>1</th>\n",
       "      <td>1.181275</td>\n",
       "      <td>0.895323</td>\n",
       "      <td>0.69963</td>\n",
       "      <td>0.345198</td>\n",
       "      <td>-0.164539</td>\n",
       "    </tr>\n",
       "    <tr>\n",
       "      <th>2</th>\n",
       "      <td>1.181275</td>\n",
       "      <td>0.895323</td>\n",
       "      <td>0.69963</td>\n",
       "      <td>0.345198</td>\n",
       "      <td>-0.164539</td>\n",
       "    </tr>\n",
       "    <tr>\n",
       "      <th>3</th>\n",
       "      <td>1.181275</td>\n",
       "      <td>0.895323</td>\n",
       "      <td>0.69963</td>\n",
       "      <td>0.345198</td>\n",
       "      <td>-0.164539</td>\n",
       "    </tr>\n",
       "    <tr>\n",
       "      <th>4</th>\n",
       "      <td>1.181275</td>\n",
       "      <td>0.895323</td>\n",
       "      <td>0.69963</td>\n",
       "      <td>0.345198</td>\n",
       "      <td>-0.164539</td>\n",
       "    </tr>\n",
       "  </tbody>\n",
       "</table>\n",
       "</div>"
      ],
      "text/plain": [
       "          d         t        a         b         g\n",
       "0  1.181275  0.895323  0.69963  0.345198 -0.164539\n",
       "1  1.181275  0.895323  0.69963  0.345198 -0.164539\n",
       "2  1.181275  0.895323  0.69963  0.345198 -0.164539\n",
       "3  1.181275  0.895323  0.69963  0.345198 -0.164539\n",
       "4  1.181275  0.895323  0.69963  0.345198 -0.164539"
      ]
     },
     "execution_count": 23,
     "metadata": {},
     "output_type": "execute_result"
    }
   ],
   "source": [
    "waves.head()"
   ]
  },
  {
   "cell_type": "code",
   "execution_count": 26,
   "metadata": {},
   "outputs": [
    {
     "data": {
      "text/plain": [
       "<matplotlib.axes._subplots.AxesSubplot at 0x2bd89ddd518>"
      ]
     },
     "execution_count": 26,
     "metadata": {},
     "output_type": "execute_result"
    },
    {
     "data": {
      "image/png": "[encoded data removed]",
      "text/plain": [
       "<Figure size 432x288 with 1 Axes>"
      ]
     },
     "metadata": {
      "needs_background": "light"
     },
     "output_type": "display_data"
    }
   ],
   "source": [
    "waves.plot()"
   ]
  },
  {
   "cell_type": "code",
   "execution_count": null,
   "metadata": {},
   "outputs": [],
   "source": []
  }
 ],
 "metadata": {
  "kernelspec": {
   "display_name": "Python 3",
   "language": "python",
   "name": "python3"
  },
  "language_info": {
   "codemirror_mode": {
    "name": "ipython",
    "version": 3
   },
   "file_extension": ".py",
   "mimetype": "text/x-python",
   "name": "python",
   "nbconvert_exporter": "python",
   "pygments_lexer": "ipython3",
   "version": "3.7.3"
  }
 },
 "nbformat": 4,
 "nbformat_minor": 4
}
